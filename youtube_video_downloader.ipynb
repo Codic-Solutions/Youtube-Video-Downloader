{
  "nbformat": 4,
  "nbformat_minor": 0,
  "metadata": {
    "colab": {
      "provenance": []
    },
    "kernelspec": {
      "name": "python3",
      "display_name": "Python 3"
    },
    "language_info": {
      "name": "python"
    }
  },
  "cells": [
    {
      "cell_type": "code",
      "execution_count": null,
      "metadata": {
        "id": "I9o2E3Xv6IUR"
      },
      "outputs": [],
      "source": []
    },
    {
      "cell_type": "code",
      "source": [
        "from google.colab import drive\n",
        "drive.mount('/content/drive')"
      ],
      "metadata": {
        "colab": {
          "base_uri": "https://localhost:8080/"
        },
        "id": "RSJffuOo6Q2O",
        "outputId": "3b3dd339-e941-4b11-ec86-c594d9e456be"
      },
      "execution_count": 1,
      "outputs": [
        {
          "output_type": "stream",
          "name": "stdout",
          "text": [
            "Mounted at /content/drive\n"
          ]
        }
      ]
    },
    {
      "cell_type": "code",
      "source": [
        "!pip install pytube\n",
        "import os\n",
        "from pytube import YouTube\n",
        "from datetime import datetime\n",
        "\n",
        "# Function to create a directory if it doesn't exist\n",
        "def create_directory(path):\n",
        "    if not os.path.exists(path):\n",
        "        os.makedirs(path)\n",
        "\n",
        "# Base directory where videos will be saved\n",
        "BASE_SAVE_PATH = \"/content/drive/MyDrive/Downloaded Videos/\"\n",
        "\n",
        "# List of video links\n",
        "video_links = [\n",
        "    \"https://youtu.be/ZRiFfjQWzQ8\",\n",
        "    \"https://youtu.be/ReGOQI8bHDg\",\n",
        "    \"https://youtu.be/ITarXSw7Zhg\",\n",
        "    \"https://youtu.be/wsjLmK7U2SI\",\n",
        "    \"https://youtu.be/IDLygo63jX8\"\n",
        "]\n",
        "\n",
        "# Get the current date\n",
        "current_date = datetime.now().strftime(\"%Y-%m-%d\")\n",
        "\n",
        "# Loop through each video link and download the video\n",
        "for link in video_links:\n",
        "    try:\n",
        "        yt = YouTube(link)\n",
        "    except:\n",
        "        print(\"Connection Error for:\", link)\n",
        "        continue\n",
        "\n",
        "    mp4_stream = yt.streams.filter(file_extension='mp4').order_by('resolution').desc().first()\n",
        "\n",
        "    yt.title = yt.title.replace('|', '_').replace('/', '_').replace(':', '_')\n",
        "\n",
        "    # Create a directory for the current date if it doesn't exist\n",
        "    save_path = os.path.join(BASE_SAVE_PATH, f\"{current_date}\")\n",
        "    create_directory(save_path)\n",
        "\n",
        "    try:\n",
        "        mp4_stream.download(output_path=save_path)\n",
        "        print(f\"Downloaded {yt.title}\")\n",
        "    except:\n",
        "        print(\"Error downloading:\", yt.title)\n",
        "\n",
        "print('All tasks completed!')\n"
      ],
      "metadata": {
        "colab": {
          "base_uri": "https://localhost:8080/"
        },
        "id": "XARcPon16xrf",
        "outputId": "41d3535b-9234-4dcc-c75a-7d6c77334337"
      },
      "execution_count": 2,
      "outputs": [
        {
          "output_type": "stream",
          "name": "stdout",
          "text": [
            "Collecting pytube\n",
            "  Downloading pytube-15.0.0-py3-none-any.whl (57 kB)\n",
            "\u001b[?25l     \u001b[90m━━━━━━━━━━━━━━━━━━━━━━━━━━━━━━━━━━━━━━━━\u001b[0m \u001b[32m0.0/57.6 kB\u001b[0m \u001b[31m?\u001b[0m eta \u001b[36m-:--:--\u001b[0m\r\u001b[2K     \u001b[90m━━━━━━━━━━━━━━━━━━━━━━━━━━━━━━━━━━━━━━━━\u001b[0m \u001b[32m57.6/57.6 kB\u001b[0m \u001b[31m1.6 MB/s\u001b[0m eta \u001b[36m0:00:00\u001b[0m\n",
            "\u001b[?25hInstalling collected packages: pytube\n",
            "Successfully installed pytube-15.0.0\n",
            "Downloaded Why Am I Muslim? _ By Mufti Menk _ With Big Subtitle @muftimenkofficial\n",
            "Downloaded NEW _ How to Achieve the Best of Both Worlds - Mufti Menk in Panorama, South Africa\n",
            "Downloaded NEW _ How to Give Up Bad Habits - Mufti Menk\n",
            "Downloaded Why are you taking your Mother's love for granted? - Mufti Menk\n",
            "Downloaded NEW _ How to prepare for the meeting with Allah - Healing the Ummah Episode 6 - Mufti Menk\n",
            "All tasks completed!\n"
          ]
        }
      ]
    },
    {
      "cell_type": "code",
      "source": [],
      "metadata": {
        "id": "qvWWwz-E7bIK"
      },
      "execution_count": null,
      "outputs": []
    }
  ]
}